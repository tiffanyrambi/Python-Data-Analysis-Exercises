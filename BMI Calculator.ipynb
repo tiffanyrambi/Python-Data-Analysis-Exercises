{
 "cells": [
  {
   "cell_type": "code",
   "execution_count": 69,
   "id": "a9dab709-1cdc-4cd1-ae7f-32b793b20f1b",
   "metadata": {},
   "outputs": [
    {
     "name": "stdin",
     "output_type": "stream",
     "text": [
      "Name:  Tiffany\n",
      "Your weight in pounds =  120\n",
      "Your height in inches =  80\n"
     ]
    },
    {
     "name": "stdout",
     "output_type": "stream",
     "text": [
      "Tiffany's BMI = 13.18125\n",
      "\n",
      "Let's eat more, darling\n"
     ]
    }
   ],
   "source": [
    "# BMI = weight * 703 / height * height\n",
    "\n",
    "# BMI Categories:\n",
    "# Underweight = <18.5\n",
    "# Normal weight = 18.5–24.9\n",
    "# Overweight = 25–29.9\n",
    "# Obesity = BMI of 30 or greater\n",
    "\n",
    "name = input(\"Name: \")\n",
    "weight = int(input(\"Your weight in pounds = \"))\n",
    "height = int(input(\"Your height in inches = \"))\n",
    "\n",
    "BMI = (weight * 703) / (height * height)\n",
    "\n",
    "print(name + \"'s BMI = \" + str(BMI) + \"\\n\")\n",
    "\n",
    "if BMI < 18.5:\n",
    "    print(\"Let's eat more, darling\")\n",
    "elif BMI < 24.9 :\n",
    "    print(\"You're doing great honey!\")\n",
    "elif BMI < 29.9:\n",
    "    print(\"Having lots of cheat days, eh?\")\n",
    "else:\n",
    "    print(\"Baby, let's cut down those calories and go to the gym\")"
   ]
  }
 ],
 "metadata": {
  "kernelspec": {
   "display_name": "Python 3 (ipykernel)",
   "language": "python",
   "name": "python3"
  },
  "language_info": {
   "codemirror_mode": {
    "name": "ipython",
    "version": 3
   },
   "file_extension": ".py",
   "mimetype": "text/x-python",
   "name": "python",
   "nbconvert_exporter": "python",
   "pygments_lexer": "ipython3",
   "version": "3.12.4"
  }
 },
 "nbformat": 4,
 "nbformat_minor": 5
}
