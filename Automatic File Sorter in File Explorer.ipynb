{
 "cells": [
  {
   "cell_type": "markdown",
   "id": "57b14d55-bf56-4339-b0e6-cc4ea285fb96",
   "metadata": {},
   "source": [
    "# Automatic File Sorter in File Explorer\n"
   ]
  },
  {
   "cell_type": "code",
   "execution_count": 4,
   "id": "e01a4cdd-04b8-4486-92ce-131748dc7ef5",
   "metadata": {},
   "outputs": [],
   "source": [
    "# import libararies(?)\n",
    "\n",
    "import os, shutil\n",
    "# os = operating system\n",
    "# shutil => to do high level operations on the files in file explorer"
   ]
  },
  {
   "cell_type": "code",
   "execution_count": 20,
   "id": "65d59431-e84c-463e-8df0-855f5016d387",
   "metadata": {},
   "outputs": [],
   "source": [
    "path = r\"C:/Users/brend/Dropbox/My PC (LAPTOP-9LJ9T83N)/Downloads/File Sorter/\"\n",
    "# the 'r' before the path is to read the path as a string (it won't read the backslash)"
   ]
  },
  {
   "cell_type": "code",
   "execution_count": 34,
   "id": "5b0c3215-ac4d-423e-b230-9b4efdaacbe2",
   "metadata": {},
   "outputs": [],
   "source": [
    "file_name = os.listdir(path)"
   ]
  },
  {
   "cell_type": "code",
   "execution_count": 36,
   "id": "b01faba6-23e8-4e27-aa1e-1c8f19520460",
   "metadata": {},
   "outputs": [],
   "source": [
    "folder_names = ['pdf files', 'jpeg files', 'xlsx files']\n",
    "\n",
    "for loop in range(0,3):\n",
    "    if not os.path.exists(path + folder_names[loop]):\n",
    "        print(path + folder_names[loop])\n",
    "        os.makedirs(path + folder_names[loop])"
   ]
  },
  {
   "cell_type": "code",
   "execution_count": 46,
   "id": "707c38e0-9126-49d1-b97e-e7bde560400c",
   "metadata": {},
   "outputs": [],
   "source": [
    "for file in file_name:\n",
    "    if \".pdf\" in file and not os.path.exists(path + \"pdf files/\" + file):\n",
    "        shutil.move(path + file, path + \"pdf files/\" + file)\n",
    "    elif \".jpeg\" in file and not os.path.exists(path + \"jpeg files/\" + file):\n",
    "        shutil.move(path + file, path + \"jpeg files/\" + file)\n",
    "    elif \".xlsx\" in file and not os.path.exists(path + \"xlsx files/\" + file):\n",
    "        shutil.move(path + file, path + \"xlsx files/\" + file)"
   ]
  },
  {
   "cell_type": "code",
   "execution_count": null,
   "id": "d9739577-82a4-4ea0-b628-cb5f8fd946a2",
   "metadata": {},
   "outputs": [],
   "source": []
  },
  {
   "cell_type": "code",
   "execution_count": null,
   "id": "0d249045-832a-4f0c-88ca-9005b81db9a2",
   "metadata": {},
   "outputs": [],
   "source": []
  },
  {
   "cell_type": "code",
   "execution_count": null,
   "id": "560749b5-e566-48de-9ea9-4d2245691c20",
   "metadata": {},
   "outputs": [],
   "source": []
  }
 ],
 "metadata": {
  "kernelspec": {
   "display_name": "Python 3 (ipykernel)",
   "language": "python",
   "name": "python3"
  },
  "language_info": {
   "codemirror_mode": {
    "name": "ipython",
    "version": 3
   },
   "file_extension": ".py",
   "mimetype": "text/x-python",
   "name": "python",
   "nbconvert_exporter": "python",
   "pygments_lexer": "ipython3",
   "version": "3.12.4"
  }
 },
 "nbformat": 4,
 "nbformat_minor": 5
}
